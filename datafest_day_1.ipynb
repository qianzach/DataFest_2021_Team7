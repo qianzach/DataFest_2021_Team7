{
 "cells": [
  {
   "cell_type": "code",
   "execution_count": 3,
   "metadata": {},
   "outputs": [],
   "source": [
    "import numpy as np\n",
    "import pandas as pd\n",
    "import sklearn\n",
    "import urllib\n",
    "from matplotlib import pyplot as plt\n",
    "import seaborn as sns\n",
    "import string"
   ]
  },
  {
   "cell_type": "markdown",
   "metadata": {},
   "source": [
    "### Cleaning"
   ]
  },
  {
   "cell_type": "code",
   "execution_count": 36,
   "metadata": {},
   "outputs": [],
   "source": [
    "df_19 = pd.read_csv(\"/Users/qianzach/Desktop/Datafest-2021/US/nmurx_us_19Q1.csv\")\n",
    "df_18 = pd.read_csv(\"/Users/qianzach/Desktop/Datafest-2021/US/us_18Q1.csv\")"
   ]
  },
  {
   "cell_type": "markdown",
   "metadata": {},
   "source": [
    "### Alcohol Usage"
   ]
  },
  {
   "cell_type": "code",
   "execution_count": 46,
   "metadata": {},
   "outputs": [],
   "source": [
    "def alcBin(df):\n",
    "    if df[\"ALC_USE\"] <= 2:\n",
    "        val = 0 #NOT Misuse\n",
    "    else:\n",
    "        val = 1\n",
    "    return val\n",
    "temp = df_18[\"ALC_USE\"]\n",
    "temp = pd.DataFrame(data=temp)\n",
    "temp[\"Risk\"] =  temp.apply(alcBin,axis=1)\n"
   ]
  },
  {
   "cell_type": "code",
   "execution_count": 83,
   "metadata": {},
   "outputs": [],
   "source": [
    "#sns.countplot(x= \"Risk\", data=temp)\n",
    "#temp.Risk.value_counts()"
   ]
  },
  {
   "cell_type": "markdown",
   "metadata": {},
   "source": [
    "## Checking Substance Abuse:  ALCOHOL, PRESCRIPTION, DRUGS, OTHER"
   ]
  },
  {
   "cell_type": "code",
   "execution_count": 82,
   "metadata": {},
   "outputs": [],
   "source": [
    "sub_abuse = [\"HELP_SUB_USE\",\"HELP_SUB_USE_ALC\", \"HELP_SUB_USE_PREDRGS\", \"HELP_SUB_USE_OTH\"]\n",
    "#for i in sub_abuse:\n",
    "#    print(df_18[i].value_counts())\n",
    "#    #sns.countplot(x= i, data=df_18)"
   ]
  },
  {
   "cell_type": "code",
   "execution_count": 81,
   "metadata": {},
   "outputs": [],
   "source": [
    "opioids = [\"OPIOID_DEP_METH\", \"OPIOID_DEP_BUP\", \"OPIOID_DEP_HER\", \"OPIOID_DEP_OTH\", \"OPIOID_DEP_NO\"]\n",
    "#for i in opioids:\n",
    "#    print(df_18[i].value_counts())"
   ]
  },
  {
   "cell_type": "markdown",
   "metadata": {},
   "source": [
    "# Day 2\n",
    "\n",
    "We will run an ML model that consists of Schedule 1 Drugs and predict its misuse with Schedule 1 Drug: \n",
    "```\n",
    "ELU_USE\n",
    "BAC_USE\n",
    "CANN_USE\n",
    "MDMA_USE\n",
    "GHB_USE\n",
    "KRAT_USE\n",
    "HEROIN_USE\n",
    "MEPH_USE\n",
    "LSD_USE\n",
    "MUSH_USE\n",
    "SPICE_USE\n",
    "SAL_USE\n",
    "```\n"
   ]
  },
  {
   "cell_type": "code",
   "execution_count": null,
   "metadata": {},
   "outputs": [],
   "source": [
    "def alcBin(df):\n",
    "    if df[\"ALC_USE\"] <= 2:\n",
    "        val = 0 #NOT Misuse\n",
    "    else:\n",
    "        val = 1\n",
    "    return val"
   ]
  },
  {
   "cell_type": "code",
   "execution_count": 77,
   "metadata": {},
   "outputs": [],
   "source": [
    "df = pd.DataFrame(data=df_19[[\"ELU_USE\",\"BAC_USE\",\"CANN_USE\",\"MDMA_USE\",\"GHB_USE\",\"KRAT_USE\",\"HEROIN_USE\",\"MEPH_USE\",\"LSD_USE\",\"MUSH_USE\",\"SPICE_USE\",\"SAL_USE\"]])\n",
    "s1 = [\"ELU_USE\",\"BAC_USE\",\"CANN_USE\",\"MDMA_USE\",\"GHB_USE\",\"KRAT_USE\",\"HEROIN_USE\",\"MEPH_USE\",\"LSD_USE\",\"MUSH_USE\",\"SPICE_USE\",\"SAL_USE\"]\n",
    "def s1_T(c):\n",
    "    \"\"\"\n",
    "    Collapse columns of Schedule 1 Drug Use into a Single Binary Column. This  will be used as our target variable\n",
    "    \"\"\"\n",
    "        if c[s1[0]] == 1 or c[s1[1]]==1 or c[s1[2]]==1 or c[s1[3]]==1 or c[s1[4]]==1 or c[s1[5]]==1 or c[s1[6]]==1 or c[s1[7]]==1 or c[s1[8]]==1 or c[s1[9]] ==1  or c[s1[10]]==1 or c[s1[11]] ==1:\n",
    "            val = 1\n",
    "        else:\n",
    "            val = 0\n",
    "        return val\n",
    "df[\"S1_Misuse\"]  = df.apply(s1_T,axis=1)"
   ]
  },
  {
   "cell_type": "code",
   "execution_count": 79,
   "metadata": {},
   "outputs": [
    {
     "data": {
      "text/plain": [
       "0.2113458497222335"
      ]
     },
     "execution_count": 79,
     "metadata": {},
     "output_type": "execute_result"
    }
   ],
   "source": [
    "5212/24661 #Prints relative distribution"
   ]
  },
  {
   "cell_type": "code",
   "execution_count": 78,
   "metadata": {},
   "outputs": [
    {
     "data": {
      "text/plain": [
       "0    24661\n",
       "1     5212\n",
       "Name: S1_Misuse, dtype: int64"
      ]
     },
     "execution_count": 78,
     "metadata": {},
     "output_type": "execute_result"
    }
   ],
   "source": [
    "df[\"S1_Misuse\"].value_counts()"
   ]
  },
  {
   "cell_type": "code",
   "execution_count": 90,
   "metadata": {},
   "outputs": [
    {
     "name": "stdout",
     "output_type": "stream",
     "text": [
      "(29873, 1)\n"
     ]
    }
   ],
   "source": [
    "df = pd.DataFrame(data=df[\"S1_Misuse\"])\n",
    "print(df.shape)"
   ]
  },
  {
   "cell_type": "markdown",
   "metadata": {},
   "source": [
    "## Feature Matrix Creation\n",
    "\n",
    "We proceed to collapse the race columns into one with multiple factors.\n",
    "\n",
    "AGE10 is in age group bins as well."
   ]
  },
  {
   "cell_type": "code",
   "execution_count": 91,
   "metadata": {},
   "outputs": [
    {
     "name": "stderr",
     "output_type": "stream",
     "text": [
      "<ipython-input-91-91e618b53e48>:23: SettingWithCopyWarning: \n",
      "A value is trying to be set on a copy of a slice from a DataFrame.\n",
      "Try using .loc[row_indexer,col_indexer] = value instead\n",
      "\n",
      "See the caveats in the documentation: https://pandas.pydata.org/pandas-docs/stable/user_guide/indexing.html#returning-a-view-versus-a-copy\n",
      "  df2[\"RACE\"]  = df2.apply(race_T,axis=1)\n"
     ]
    }
   ],
   "source": [
    "df2 = df_19[[\"DEM_GENDER\",\"DEM_AGE10\",\"DEM_REGION\",\"DEM_INCOME\",\"DEM_HOME\",\"DEM_GENHEALTH\",\"DEM_LIMIT\",\"TOB_LIFE\",\"DEM_HISPANIC\",\n",
    "\"DEM_RACE_AIAN\",\"DEM_RACE_ASIAN\",\"DEM_RACE_BLACK\",\"DEM_RACE_NHPI\",\"DEM_RACE_WHITE\",\"DEM_RACE_OTH\",\"DEM_MARITAL\",\n",
    "\"DEM_EDU\",\"DEM_STDNT\",\"DEM_VET\",\"DEM_HEALTH\",\"DEM_EMPLOY\",\"DEM_INSUR\",\"DEM_HOSPSTAY\"]]\n",
    "\n",
    "def race_T(df):\n",
    "    \"\"\"\n",
    "    Collapses DEM_RACE_xxx column into single factor \n",
    "    \"\"\"\n",
    "    if df[\"DEM_RACE_WHITE\"] == 1:\n",
    "        val = 0 \n",
    "    elif df[\"DEM_RACE_AIAN\"] == 1:\n",
    "        val = 1\n",
    "    elif df[\"DEM_RACE_ASIAN\"] == 1:\n",
    "        val = 2\n",
    "    elif df[\"DEM_RACE_BLACK\"] == 1:\n",
    "        val = 3 \n",
    "    elif df[\"DEM_RACE_NHPI\"] == 1:\n",
    "        val = 4\n",
    "    elif df[\"DEM_RACE_OTH\"] == 1:\n",
    "        val = 5\n",
    "    return val\n",
    "\n",
    "df2[\"RACE\"]  = df2.apply(race_T,axis=1)\n",
    "\n",
    "df2 = df2.drop([\"DEM_RACE_AIAN\",\"DEM_RACE_ASIAN\",\"DEM_RACE_BLACK\",\"DEM_RACE_NHPI\",\"DEM_RACE_WHITE\",\"DEM_RACE_OTH\"], axis=1)\n",
    "\n",
    "df = pd.DataFrame(data = df[\"S1_Misuse\"])\n",
    "\n",
    "df_final = pd.concat([df2,df], axis = 1)"
   ]
  },
  {
   "cell_type": "code",
   "execution_count": 92,
   "metadata": {},
   "outputs": [
    {
     "data": {
      "text/html": [
       "<div>\n",
       "<style scoped>\n",
       "    .dataframe tbody tr th:only-of-type {\n",
       "        vertical-align: middle;\n",
       "    }\n",
       "\n",
       "    .dataframe tbody tr th {\n",
       "        vertical-align: top;\n",
       "    }\n",
       "\n",
       "    .dataframe thead th {\n",
       "        text-align: right;\n",
       "    }\n",
       "</style>\n",
       "<table border=\"1\" class=\"dataframe\">\n",
       "  <thead>\n",
       "    <tr style=\"text-align: right;\">\n",
       "      <th></th>\n",
       "      <th>DEM_GENDER</th>\n",
       "      <th>DEM_AGE10</th>\n",
       "      <th>DEM_REGION</th>\n",
       "      <th>DEM_INCOME</th>\n",
       "      <th>DEM_HOME</th>\n",
       "      <th>DEM_GENHEALTH</th>\n",
       "      <th>DEM_LIMIT</th>\n",
       "      <th>TOB_LIFE</th>\n",
       "      <th>DEM_HISPANIC</th>\n",
       "      <th>DEM_MARITAL</th>\n",
       "      <th>DEM_EDU</th>\n",
       "      <th>DEM_STDNT</th>\n",
       "      <th>DEM_VET</th>\n",
       "      <th>DEM_HEALTH</th>\n",
       "      <th>DEM_EMPLOY</th>\n",
       "      <th>DEM_INSUR</th>\n",
       "      <th>DEM_HOSPSTAY</th>\n",
       "      <th>RACE</th>\n",
       "      <th>S1_Misuse</th>\n",
       "    </tr>\n",
       "  </thead>\n",
       "  <tbody>\n",
       "    <tr>\n",
       "      <th>0</th>\n",
       "      <td>2</td>\n",
       "      <td>4</td>\n",
       "      <td>3</td>\n",
       "      <td>4</td>\n",
       "      <td>3</td>\n",
       "      <td>2</td>\n",
       "      <td>0</td>\n",
       "      <td>1</td>\n",
       "      <td>0</td>\n",
       "      <td>1</td>\n",
       "      <td>4</td>\n",
       "      <td>0</td>\n",
       "      <td>0</td>\n",
       "      <td>0</td>\n",
       "      <td>1</td>\n",
       "      <td>1</td>\n",
       "      <td>0</td>\n",
       "      <td>0</td>\n",
       "      <td>1</td>\n",
       "    </tr>\n",
       "    <tr>\n",
       "      <th>1</th>\n",
       "      <td>2</td>\n",
       "      <td>6</td>\n",
       "      <td>2</td>\n",
       "      <td>1</td>\n",
       "      <td>1</td>\n",
       "      <td>2</td>\n",
       "      <td>1</td>\n",
       "      <td>3</td>\n",
       "      <td>0</td>\n",
       "      <td>3</td>\n",
       "      <td>2</td>\n",
       "      <td>0</td>\n",
       "      <td>0</td>\n",
       "      <td>0</td>\n",
       "      <td>0</td>\n",
       "      <td>0</td>\n",
       "      <td>0</td>\n",
       "      <td>0</td>\n",
       "      <td>0</td>\n",
       "    </tr>\n",
       "    <tr>\n",
       "      <th>2</th>\n",
       "      <td>2</td>\n",
       "      <td>6</td>\n",
       "      <td>3</td>\n",
       "      <td>4</td>\n",
       "      <td>2</td>\n",
       "      <td>4</td>\n",
       "      <td>0</td>\n",
       "      <td>3</td>\n",
       "      <td>0</td>\n",
       "      <td>1</td>\n",
       "      <td>2</td>\n",
       "      <td>0</td>\n",
       "      <td>0</td>\n",
       "      <td>0</td>\n",
       "      <td>0</td>\n",
       "      <td>1</td>\n",
       "      <td>0</td>\n",
       "      <td>0</td>\n",
       "      <td>0</td>\n",
       "    </tr>\n",
       "    <tr>\n",
       "      <th>3</th>\n",
       "      <td>2</td>\n",
       "      <td>6</td>\n",
       "      <td>4</td>\n",
       "      <td>2</td>\n",
       "      <td>1</td>\n",
       "      <td>4</td>\n",
       "      <td>0</td>\n",
       "      <td>1</td>\n",
       "      <td>0</td>\n",
       "      <td>3</td>\n",
       "      <td>3</td>\n",
       "      <td>0</td>\n",
       "      <td>0</td>\n",
       "      <td>0</td>\n",
       "      <td>1</td>\n",
       "      <td>1</td>\n",
       "      <td>0</td>\n",
       "      <td>0</td>\n",
       "      <td>0</td>\n",
       "    </tr>\n",
       "    <tr>\n",
       "      <th>4</th>\n",
       "      <td>2</td>\n",
       "      <td>6</td>\n",
       "      <td>2</td>\n",
       "      <td>2</td>\n",
       "      <td>2</td>\n",
       "      <td>4</td>\n",
       "      <td>0</td>\n",
       "      <td>3</td>\n",
       "      <td>0</td>\n",
       "      <td>1</td>\n",
       "      <td>2</td>\n",
       "      <td>0</td>\n",
       "      <td>0</td>\n",
       "      <td>0</td>\n",
       "      <td>0</td>\n",
       "      <td>1</td>\n",
       "      <td>0</td>\n",
       "      <td>0</td>\n",
       "      <td>0</td>\n",
       "    </tr>\n",
       "  </tbody>\n",
       "</table>\n",
       "</div>"
      ],
      "text/plain": [
       "   DEM_GENDER  DEM_AGE10  DEM_REGION  DEM_INCOME  DEM_HOME  DEM_GENHEALTH  \\\n",
       "0           2          4           3           4         3              2   \n",
       "1           2          6           2           1         1              2   \n",
       "2           2          6           3           4         2              4   \n",
       "3           2          6           4           2         1              4   \n",
       "4           2          6           2           2         2              4   \n",
       "\n",
       "   DEM_LIMIT  TOB_LIFE  DEM_HISPANIC  DEM_MARITAL  DEM_EDU  DEM_STDNT  \\\n",
       "0          0         1             0            1        4          0   \n",
       "1          1         3             0            3        2          0   \n",
       "2          0         3             0            1        2          0   \n",
       "3          0         1             0            3        3          0   \n",
       "4          0         3             0            1        2          0   \n",
       "\n",
       "   DEM_VET  DEM_HEALTH  DEM_EMPLOY  DEM_INSUR  DEM_HOSPSTAY  RACE  S1_Misuse  \n",
       "0        0           0           1          1             0     0          1  \n",
       "1        0           0           0          0             0     0          0  \n",
       "2        0           0           0          1             0     0          0  \n",
       "3        0           0           1          1             0     0          0  \n",
       "4        0           0           0          1             0     0          0  "
      ]
     },
     "execution_count": 92,
     "metadata": {},
     "output_type": "execute_result"
    }
   ],
   "source": [
    "df_final.head()"
   ]
  },
  {
   "cell_type": "markdown",
   "metadata": {},
   "source": [
    "# Modeling: Supervised Machine Learning Implementation"
   ]
  },
  {
   "cell_type": "markdown",
   "metadata": {},
   "source": [
    "##  I. Preprocessing"
   ]
  },
  {
   "cell_type": "code",
   "execution_count": 123,
   "metadata": {},
   "outputs": [
    {
     "name": "stdout",
     "output_type": "stream",
     "text": [
      "(29873, 18) (29873,)\n"
     ]
    }
   ],
   "source": [
    "from sklearn import preprocessing\n",
    "\n",
    "def clean(df):\n",
    "    \"\"\"\n",
    "    One-hot encoding for the labels\n",
    "    \"\"\"\n",
    "    le = preprocessing.LabelEncoder() #change our categorical to discrete numerics\n",
    "    #df[\"DATE\"] = le.fit_transform(df[\"DATE\"])\n",
    "    for i in df.columns:\n",
    "        df[i] = le.fit_transform(df[i])\n",
    "    #df[\"RACE\"] = le.fit_transform(df[\"RACE\"])\n",
    "    #df[\"DEM_AGE10\"] = le.fit_transform(df[\"DEM_AGE10\"])\n",
    "    #df[\"DEM_AGE10\"] = le.fit_transform(df[\"DEM_AGE10\"])\n",
    "    return df\n",
    "\n",
    "\n",
    "y = df_final[\"S1_Misuse\"]\n",
    "x = df_final.drop(\"S1_Misuse\",axis=1)\n",
    "    \n",
    "print(x.shape, y.shape)"
   ]
  },
  {
   "cell_type": "code",
   "execution_count": 122,
   "metadata": {},
   "outputs": [
    {
     "data": {
      "text/plain": [
       "0        1\n",
       "1        0\n",
       "2        1\n",
       "3        1\n",
       "4        1\n",
       "        ..\n",
       "29868    1\n",
       "29869    1\n",
       "29870    1\n",
       "29871    1\n",
       "29872    1\n",
       "Name: DEM_INSUR, Length: 29873, dtype: int64"
      ]
     },
     "execution_count": 122,
     "metadata": {},
     "output_type": "execute_result"
    }
   ],
   "source": [
    "x.DEM_INSUR"
   ]
  },
  {
   "cell_type": "code",
   "execution_count": 120,
   "metadata": {},
   "outputs": [
    {
     "data": {
      "text/plain": [
       "Index(['DEM_GENDER', 'DEM_AGE10', 'DEM_REGION', 'DEM_INCOME', 'DEM_HOME',\n",
       "       'DEM_GENHEALTH', 'DEM_LIMIT', 'TOB_LIFE', 'DEM_HISPANIC', 'DEM_MARITAL',\n",
       "       'DEM_EDU', 'DEM_STDNT', 'DEM_VET', 'DEM_HEALTH', 'DEM_EMPLOY',\n",
       "       'DEM_INSUR', 'DEM_HOSPSTAY', 'RACE'],\n",
       "      dtype='object')"
      ]
     },
     "execution_count": 120,
     "metadata": {},
     "output_type": "execute_result"
    }
   ],
   "source": [
    "x.columns"
   ]
  },
  {
   "cell_type": "markdown",
   "metadata": {},
   "source": [
    "# II. Splitting Data"
   ]
  },
  {
   "cell_type": "code",
   "execution_count": 125,
   "metadata": {},
   "outputs": [],
   "source": [
    "from sklearn.model_selection import train_test_split\n",
    "\n",
    "np.random.seed(1000) #set seed\n",
    "x_train, x_test, y_train, y_test = train_test_split(x,y, test_size = 0.20) #split 80 20 test"
   ]
  },
  {
   "cell_type": "markdown",
   "metadata": {},
   "source": [
    "## III. Gridsearch CV"
   ]
  },
  {
   "cell_type": "code",
   "execution_count": 126,
   "metadata": {},
   "outputs": [],
   "source": [
    "#Load dependencies for feature selection and model training\n",
    "import sklearn\n",
    "from sklearn.linear_model import LogisticRegression\n",
    "from sklearn.model_selection import cross_val_score\n",
    "from sklearn import neural_network\n",
    "\n",
    "def gridsearch(x,y,k):\n",
    "    \"\"\"\n",
    "    Rudimentary gridsearch I implemented in Homework 7 in a function. Takes values in a list of arrays and \n",
    "    tests each value for our C value. \n",
    "    \"\"\"\n",
    "    #printing out graph and finding best params\n",
    "    fig, ax = plt.subplots(1, figsize = (20, 20))\n",
    "    best_score = -1000000 #set abritrary number\n",
    "    best_depth = 0\n",
    "    arr = [.001,.01,1,10,100,1000]\n",
    "    for i in arr:\n",
    "\n",
    "        lr = LogisticRegression(C=i, max_iter = 10000)\n",
    "        cv_score = sklearn.model_selection.cross_val_score(lr,x, y, cv =k).mean()\n",
    "        #set kfold CV to 10\n",
    "        if best_score < cv_score:\n",
    "            best_score = cv_score\n",
    "            best_depth = i\n",
    "        ax.scatter(i,cv_score)\n",
    "        ax.set(xlabel = \"C Value\", ylabel = \"Cross Validation Score\")\n",
    "\n",
    "    ax.set( title = \"ML: Finding C Regularization Value: \" +  str(best_depth) + \" with score: \" +  str(best_score))\n",
    "    return (best_depth, best_score)"
   ]
  },
  {
   "cell_type": "code",
   "execution_count": 127,
   "metadata": {},
   "outputs": [
    {
     "name": "stdout",
     "output_type": "stream",
     "text": [
      "0.01 0.8302788057537074\n"
     ]
    },
    {
     "data": {
      "image/png": "[encoded data removed]",
      "text/plain": [
       "<Figure size 1440x1440 with 1 Axes>"
      ]
     },
     "metadata": {
      "needs_background": "light"
     },
     "output_type": "display_data"
    }
   ],
   "source": [
    "(best_depth, best_score) = gridsearch(x_train,y_train,k=10)\n",
    "print(best_depth, best_score)"
   ]
  },
  {
   "cell_type": "markdown",
   "metadata": {},
   "source": [
    "## Logistic Regression"
   ]
  },
  {
   "cell_type": "code",
   "execution_count": 129,
   "metadata": {},
   "outputs": [
    {
     "name": "stdout",
     "output_type": "stream",
     "text": [
      "Best score:  0.830460251046025\n"
     ]
    }
   ],
   "source": [
    "np.random.seed(1000) #set seed\n",
    "ideal_LR = LogisticRegression(C=best_depth, max_iter=10000)\n",
    "ideal_LR.fit(x_train,y_train)\n",
    "LR_score = ideal_LR.score(x_test,y_test)\n",
    "print(\"Best score: \", LR_score)"
   ]
  },
  {
   "cell_type": "code",
   "execution_count": 173,
   "metadata": {},
   "outputs": [
    {
     "name": "stdout",
     "output_type": "stream",
     "text": [
      "AUC score:  0.726225482124122\n"
     ]
    }
   ],
   "source": [
    "print(\"AUC score: \", roc_auc_score(y_test, ideal_LR.predict_proba(x_test)[:, 1]))"
   ]
  },
  {
   "cell_type": "code",
   "execution_count": 131,
   "metadata": {},
   "outputs": [],
   "source": [
    "result_df = pd.DataFrame({\"coef\" : ideal_LR.coef_[0], \"word\" : x_train.columns}) #creates a results dataframe to \n",
    "#look at more coefficients"
   ]
  },
  {
   "cell_type": "code",
   "execution_count": 132,
   "metadata": {},
   "outputs": [
    {
     "data": {
      "text/html": [
       "<div>\n",
       "<style scoped>\n",
       "    .dataframe tbody tr th:only-of-type {\n",
       "        vertical-align: middle;\n",
       "    }\n",
       "\n",
       "    .dataframe tbody tr th {\n",
       "        vertical-align: top;\n",
       "    }\n",
       "\n",
       "    .dataframe thead th {\n",
       "        text-align: right;\n",
       "    }\n",
       "</style>\n",
       "<table border=\"1\" class=\"dataframe\">\n",
       "  <thead>\n",
       "    <tr style=\"text-align: right;\">\n",
       "      <th></th>\n",
       "      <th>coef</th>\n",
       "      <th>word</th>\n",
       "    </tr>\n",
       "  </thead>\n",
       "  <tbody>\n",
       "    <tr>\n",
       "      <th>7</th>\n",
       "      <td>-0.562963</td>\n",
       "      <td>TOB_LIFE</td>\n",
       "    </tr>\n",
       "    <tr>\n",
       "      <th>0</th>\n",
       "      <td>-0.435126</td>\n",
       "      <td>DEM_GENDER</td>\n",
       "    </tr>\n",
       "    <tr>\n",
       "      <th>1</th>\n",
       "      <td>-0.237151</td>\n",
       "      <td>DEM_AGE10</td>\n",
       "    </tr>\n",
       "    <tr>\n",
       "      <th>15</th>\n",
       "      <td>-0.164798</td>\n",
       "      <td>DEM_INSUR</td>\n",
       "    </tr>\n",
       "    <tr>\n",
       "      <th>17</th>\n",
       "      <td>-0.112810</td>\n",
       "      <td>RACE</td>\n",
       "    </tr>\n",
       "    <tr>\n",
       "      <th>5</th>\n",
       "      <td>-0.083122</td>\n",
       "      <td>DEM_GENHEALTH</td>\n",
       "    </tr>\n",
       "    <tr>\n",
       "      <th>12</th>\n",
       "      <td>-0.055137</td>\n",
       "      <td>DEM_VET</td>\n",
       "    </tr>\n",
       "    <tr>\n",
       "      <th>11</th>\n",
       "      <td>-0.032667</td>\n",
       "      <td>DEM_STDNT</td>\n",
       "    </tr>\n",
       "    <tr>\n",
       "      <th>3</th>\n",
       "      <td>-0.020440</td>\n",
       "      <td>DEM_INCOME</td>\n",
       "    </tr>\n",
       "    <tr>\n",
       "      <th>10</th>\n",
       "      <td>0.000112</td>\n",
       "      <td>DEM_EDU</td>\n",
       "    </tr>\n",
       "    <tr>\n",
       "      <th>4</th>\n",
       "      <td>0.014330</td>\n",
       "      <td>DEM_HOME</td>\n",
       "    </tr>\n",
       "    <tr>\n",
       "      <th>14</th>\n",
       "      <td>0.047614</td>\n",
       "      <td>DEM_EMPLOY</td>\n",
       "    </tr>\n",
       "    <tr>\n",
       "      <th>9</th>\n",
       "      <td>0.050713</td>\n",
       "      <td>DEM_MARITAL</td>\n",
       "    </tr>\n",
       "    <tr>\n",
       "      <th>8</th>\n",
       "      <td>0.088360</td>\n",
       "      <td>DEM_HISPANIC</td>\n",
       "    </tr>\n",
       "    <tr>\n",
       "      <th>2</th>\n",
       "      <td>0.158224</td>\n",
       "      <td>DEM_REGION</td>\n",
       "    </tr>\n",
       "    <tr>\n",
       "      <th>13</th>\n",
       "      <td>0.227729</td>\n",
       "      <td>DEM_HEALTH</td>\n",
       "    </tr>\n",
       "    <tr>\n",
       "      <th>16</th>\n",
       "      <td>0.297651</td>\n",
       "      <td>DEM_HOSPSTAY</td>\n",
       "    </tr>\n",
       "    <tr>\n",
       "      <th>6</th>\n",
       "      <td>0.505200</td>\n",
       "      <td>DEM_LIMIT</td>\n",
       "    </tr>\n",
       "  </tbody>\n",
       "</table>\n",
       "</div>"
      ],
      "text/plain": [
       "        coef           word\n",
       "7  -0.562963       TOB_LIFE\n",
       "0  -0.435126     DEM_GENDER\n",
       "1  -0.237151      DEM_AGE10\n",
       "15 -0.164798      DEM_INSUR\n",
       "17 -0.112810           RACE\n",
       "5  -0.083122  DEM_GENHEALTH\n",
       "12 -0.055137        DEM_VET\n",
       "11 -0.032667      DEM_STDNT\n",
       "3  -0.020440     DEM_INCOME\n",
       "10  0.000112        DEM_EDU\n",
       "4   0.014330       DEM_HOME\n",
       "14  0.047614     DEM_EMPLOY\n",
       "9   0.050713    DEM_MARITAL\n",
       "8   0.088360   DEM_HISPANIC\n",
       "2   0.158224     DEM_REGION\n",
       "13  0.227729     DEM_HEALTH\n",
       "16  0.297651   DEM_HOSPSTAY\n",
       "6   0.505200      DEM_LIMIT"
      ]
     },
     "execution_count": 132,
     "metadata": {},
     "output_type": "execute_result"
    }
   ],
   "source": [
    "most_neg = result_df.sort_values('coef', ascending = True)[0:25]\n",
    "most_neg #sort ascending starting with the most negative\n",
    "#this shows fake-related columns"
   ]
  },
  {
   "cell_type": "code",
   "execution_count": 133,
   "metadata": {},
   "outputs": [
    {
     "data": {
      "text/html": [
       "<div>\n",
       "<style scoped>\n",
       "    .dataframe tbody tr th:only-of-type {\n",
       "        vertical-align: middle;\n",
       "    }\n",
       "\n",
       "    .dataframe tbody tr th {\n",
       "        vertical-align: top;\n",
       "    }\n",
       "\n",
       "    .dataframe thead th {\n",
       "        text-align: right;\n",
       "    }\n",
       "</style>\n",
       "<table border=\"1\" class=\"dataframe\">\n",
       "  <thead>\n",
       "    <tr style=\"text-align: right;\">\n",
       "      <th></th>\n",
       "      <th>coef</th>\n",
       "      <th>word</th>\n",
       "    </tr>\n",
       "  </thead>\n",
       "  <tbody>\n",
       "    <tr>\n",
       "      <th>6</th>\n",
       "      <td>0.505200</td>\n",
       "      <td>DEM_LIMIT</td>\n",
       "    </tr>\n",
       "    <tr>\n",
       "      <th>16</th>\n",
       "      <td>0.297651</td>\n",
       "      <td>DEM_HOSPSTAY</td>\n",
       "    </tr>\n",
       "    <tr>\n",
       "      <th>13</th>\n",
       "      <td>0.227729</td>\n",
       "      <td>DEM_HEALTH</td>\n",
       "    </tr>\n",
       "    <tr>\n",
       "      <th>2</th>\n",
       "      <td>0.158224</td>\n",
       "      <td>DEM_REGION</td>\n",
       "    </tr>\n",
       "    <tr>\n",
       "      <th>8</th>\n",
       "      <td>0.088360</td>\n",
       "      <td>DEM_HISPANIC</td>\n",
       "    </tr>\n",
       "    <tr>\n",
       "      <th>9</th>\n",
       "      <td>0.050713</td>\n",
       "      <td>DEM_MARITAL</td>\n",
       "    </tr>\n",
       "    <tr>\n",
       "      <th>14</th>\n",
       "      <td>0.047614</td>\n",
       "      <td>DEM_EMPLOY</td>\n",
       "    </tr>\n",
       "    <tr>\n",
       "      <th>4</th>\n",
       "      <td>0.014330</td>\n",
       "      <td>DEM_HOME</td>\n",
       "    </tr>\n",
       "    <tr>\n",
       "      <th>10</th>\n",
       "      <td>0.000112</td>\n",
       "      <td>DEM_EDU</td>\n",
       "    </tr>\n",
       "    <tr>\n",
       "      <th>3</th>\n",
       "      <td>-0.020440</td>\n",
       "      <td>DEM_INCOME</td>\n",
       "    </tr>\n",
       "    <tr>\n",
       "      <th>11</th>\n",
       "      <td>-0.032667</td>\n",
       "      <td>DEM_STDNT</td>\n",
       "    </tr>\n",
       "    <tr>\n",
       "      <th>12</th>\n",
       "      <td>-0.055137</td>\n",
       "      <td>DEM_VET</td>\n",
       "    </tr>\n",
       "    <tr>\n",
       "      <th>5</th>\n",
       "      <td>-0.083122</td>\n",
       "      <td>DEM_GENHEALTH</td>\n",
       "    </tr>\n",
       "    <tr>\n",
       "      <th>17</th>\n",
       "      <td>-0.112810</td>\n",
       "      <td>RACE</td>\n",
       "    </tr>\n",
       "    <tr>\n",
       "      <th>15</th>\n",
       "      <td>-0.164798</td>\n",
       "      <td>DEM_INSUR</td>\n",
       "    </tr>\n",
       "    <tr>\n",
       "      <th>1</th>\n",
       "      <td>-0.237151</td>\n",
       "      <td>DEM_AGE10</td>\n",
       "    </tr>\n",
       "    <tr>\n",
       "      <th>0</th>\n",
       "      <td>-0.435126</td>\n",
       "      <td>DEM_GENDER</td>\n",
       "    </tr>\n",
       "    <tr>\n",
       "      <th>7</th>\n",
       "      <td>-0.562963</td>\n",
       "      <td>TOB_LIFE</td>\n",
       "    </tr>\n",
       "  </tbody>\n",
       "</table>\n",
       "</div>"
      ],
      "text/plain": [
       "        coef           word\n",
       "6   0.505200      DEM_LIMIT\n",
       "16  0.297651   DEM_HOSPSTAY\n",
       "13  0.227729     DEM_HEALTH\n",
       "2   0.158224     DEM_REGION\n",
       "8   0.088360   DEM_HISPANIC\n",
       "9   0.050713    DEM_MARITAL\n",
       "14  0.047614     DEM_EMPLOY\n",
       "4   0.014330       DEM_HOME\n",
       "10  0.000112        DEM_EDU\n",
       "3  -0.020440     DEM_INCOME\n",
       "11 -0.032667      DEM_STDNT\n",
       "12 -0.055137        DEM_VET\n",
       "5  -0.083122  DEM_GENHEALTH\n",
       "17 -0.112810           RACE\n",
       "15 -0.164798      DEM_INSUR\n",
       "1  -0.237151      DEM_AGE10\n",
       "0  -0.435126     DEM_GENDER\n",
       "7  -0.562963       TOB_LIFE"
      ]
     },
     "execution_count": 133,
     "metadata": {},
     "output_type": "execute_result"
    }
   ],
   "source": [
    "most_neg = result_df.sort_values('coef', ascending = True)[0:25]\n",
    "most_neg #sort ascending starting with the most negative\n",
    "#this shows fake-related columns\n",
    "most_pos = result_df.sort_values('coef', ascending = False)[0:25]#sort descending starting with the most positive\n",
    "most_pos"
   ]
  },
  {
   "cell_type": "markdown",
   "metadata": {},
   "source": [
    "## Handling Intercorrelated Features"
   ]
  },
  {
   "cell_type": "code",
   "execution_count": 136,
   "metadata": {},
   "outputs": [
    {
     "data": {
      "image/png": "[encoded data removed]",
      "text/plain": [
       "<Figure size 864x720 with 2 Axes>"
      ]
     },
     "metadata": {
      "needs_background": "light"
     },
     "output_type": "display_data"
    }
   ],
   "source": [
    "#Using Pearson Correlation\n",
    "plt.figure(figsize=(12,10))\n",
    "cor = df_final.corr()\n",
    "sns.heatmap(cor, annot=True, cmap=plt.cm.Reds)\n",
    "plt.show()"
   ]
  },
  {
   "cell_type": "code",
   "execution_count": 147,
   "metadata": {},
   "outputs": [],
   "source": [
    "#cor"
   ]
  },
  {
   "cell_type": "code",
   "execution_count": 142,
   "metadata": {},
   "outputs": [
    {
     "data": {
      "text/plain": [
       "DEM_AGE10      0.156245\n",
       "DEM_LIMIT      0.114876\n",
       "TOB_LIFE       0.232995\n",
       "DEM_MARITAL    0.101684\n",
       "S1_Misuse      1.000000\n",
       "Name: S1_Misuse, dtype: float64"
      ]
     },
     "execution_count": 142,
     "metadata": {},
     "output_type": "execute_result"
    }
   ],
   "source": [
    "#Correlation with output variable\n",
    "cor_target = abs(cor[\"S1_Misuse\"])\n",
    "#Selecting highly correlated features\n",
    "relevant_features = cor_target[cor_target>0.1]\n",
    "relevant_features"
   ]
  },
  {
   "cell_type": "code",
   "execution_count": 143,
   "metadata": {},
   "outputs": [],
   "source": [
    "#cor_target"
   ]
  },
  {
   "cell_type": "code",
   "execution_count": null,
   "metadata": {},
   "outputs": [],
   "source": []
  },
  {
   "cell_type": "markdown",
   "metadata": {},
   "source": [
    "## Recursive Feature Elimination\n",
    "We proceed to choose the top 7 features using `RFE()`."
   ]
  },
  {
   "cell_type": "code",
   "execution_count": 135,
   "metadata": {},
   "outputs": [
    {
     "data": {
      "text/plain": [
       "array([ 1,  1,  2, 10, 11,  4,  1,  1,  5,  7, 12,  9,  6,  1,  8,  1,  1,\n",
       "        3])"
      ]
     },
     "execution_count": 135,
     "metadata": {},
     "output_type": "execute_result"
    }
   ],
   "source": [
    "from sklearn.feature_selection import RFE\n",
    "estimator = LogisticRegression(C = 0.01)\n",
    "selector = RFE(estimator,n_features_to_select=7, step=1)\n",
    "selector = selector.fit(X=x_train, y=y_train)\n",
    "selector.support_\n",
    "idx = selector.ranking_\n",
    "idx"
   ]
  },
  {
   "cell_type": "code",
   "execution_count": 117,
   "metadata": {
    "scrolled": true
   },
   "outputs": [
    {
     "name": "stdout",
     "output_type": "stream",
     "text": [
      "Best score:  0.8306181655880384\n"
     ]
    }
   ],
   "source": [
    "cols = [x_train.columns[0],x_train.columns[1],x_train.columns[6],x_train.columns[7],x_train.columns[13],x_train.columns[15],x_train.columns[16]]\n",
    "lr = LogisticRegression(C=best_depth, max_iter=10000)\n",
    "lr.fit(x_train[cols],y_train)\n",
    "score = lr.score(x_test[cols],y_test)\n",
    "print(\"Best score: \", score)"
   ]
  },
  {
   "cell_type": "code",
   "execution_count": 172,
   "metadata": {},
   "outputs": [
    {
     "name": "stdout",
     "output_type": "stream",
     "text": [
      "AUC score:  0.7192132755270549\n"
     ]
    }
   ],
   "source": [
    "print(\"AUC score: \", roc_auc_score(y_test, lr.predict_proba(x_test[cols])[:, 1]))"
   ]
  },
  {
   "cell_type": "code",
   "execution_count": 148,
   "metadata": {},
   "outputs": [
    {
     "data": {
      "text/plain": [
       "array([0.8316318 , 0.83497908, 0.81372385, 0.82289923, 0.82172749])"
      ]
     },
     "execution_count": 148,
     "metadata": {},
     "output_type": "execute_result"
    }
   ],
   "source": [
    "from xgboost import XGBClassifier\n",
    "from sklearn.model_selection import cross_val_score\n",
    "\n",
    "cvScore = cross_val_score(XGBClassifier(), x,y)\n",
    "cvScore"
   ]
  },
  {
   "cell_type": "markdown",
   "metadata": {},
   "source": [
    "### Gridsearch: Hyperparameter Tuning for XGBoost Classifier\n",
    "\n",
    "Personally, I believe it's more efficient to do XGBoost runs on single threads, but instead run 4 parallel jobs in the grid search. \n",
    "\n"
   ]
  },
  {
   "cell_type": "code",
   "execution_count": 154,
   "metadata": {},
   "outputs": [],
   "source": [
    "import warnings\n",
    "warnings.filterwarnings('ignore')\n",
    "import numpy as np\n",
    "import pandas as pd\n",
    "from datetime import datetime\n",
    "from sklearn.model_selection import RandomizedSearchCV, GridSearchCV\n",
    "from sklearn.metrics import roc_auc_score\n",
    "from sklearn.model_selection import StratifiedKFold\n",
    "from xgboost import XGBClassifier"
   ]
  },
  {
   "cell_type": "code",
   "execution_count": 150,
   "metadata": {},
   "outputs": [],
   "source": [
    "def timer(start_time=None):\n",
    "    if not start_time:\n",
    "        start_time = datetime.now()\n",
    "        return start_time\n",
    "    elif start_time:\n",
    "        thour, temp_sec = divmod((datetime.now() - start_time).total_seconds(), 3600)\n",
    "        tmin, tsec = divmod(temp_sec, 60)\n",
    "        print('\\n Time taken: %i hours %i minutes and %s seconds.' % (thour, tmin, round(tsec, 2)))\n",
    "\n",
    "\n",
    "# A parameter grid for XGBoost\n",
    "params = {\n",
    "        'min_child_weight': [1, 5, 10],\n",
    "        'gamma': [0.5, 1, 1.5, 2, 5],\n",
    "        'subsample': [0.6, 0.8, 1.0],\n",
    "        'colsample_bytree': [0.6, 0.8, 1.0],\n",
    "        'max_depth': [3, 4, 5]\n",
    "        }\n",
    "\n",
    "#Denote classifier\n",
    "xgb = XGBClassifier(learning_rate=0.02, n_estimators=600, objective='binary:logistic',\n",
    "                    silent=True, nthread=1)"
   ]
  },
  {
   "cell_type": "code",
   "execution_count": 156,
   "metadata": {
    "scrolled": true
   },
   "outputs": [
    {
     "name": "stdout",
     "output_type": "stream",
     "text": [
      "Fitting 3 folds for each of 5 candidates, totalling 15 fits\n"
     ]
    },
    {
     "name": "stderr",
     "output_type": "stream",
     "text": [
      "[Parallel(n_jobs=4)]: Using backend LokyBackend with 4 concurrent workers.\n",
      "[Parallel(n_jobs=4)]: Done  15 out of  15 | elapsed:   43.3s finished\n"
     ]
    },
    {
     "name": "stdout",
     "output_type": "stream",
     "text": [
      "[15:42:20] WARNING: /Users/runner/miniforge3/conda-bld/xgboost_1593723618214/work/src/learner.cc:480: \n",
      "Parameters: { silent } might not be used.\n",
      "\n",
      "  This may not be accurate due to some parameters are only used in language bindings but\n",
      "  passed down to XGBoost core.  Or some parameters are not used but slip through this\n",
      "  verification. Please open an issue if you find above cases.\n",
      "\n",
      "\n",
      "\n",
      " Time taken: 0 hours 0 minutes and 54.33 seconds.\n"
     ]
    }
   ],
   "source": [
    "folds = 3\n",
    "param_comb = 5\n",
    "\n",
    "skf = StratifiedKFold(n_splits=folds, shuffle = True, random_state = 1001)\n",
    "\n",
    "random_search = RandomizedSearchCV(xgb, param_distributions=params, n_iter=param_comb, scoring='roc_auc', n_jobs=4, cv=skf.split(x,y), verbose=3, random_state=1001 )\n",
    "\n",
    "# Here we go\n",
    "start_time = timer(None) # timing starts from this point for \"start_time\" variable\n",
    "random_search.fit(x, y)\n",
    "timer(start_time) # timing ends here for \"start_time\" variable"
   ]
  },
  {
   "cell_type": "code",
   "execution_count": 162,
   "metadata": {
    "scrolled": true
   },
   "outputs": [
    {
     "name": "stdout",
     "output_type": "stream",
     "text": [
      "\n",
      " All results:\n",
      "{'mean_fit_time': array([ 7.15394537, 12.05577668, 11.39529157,  8.27280545, 10.36799542]), 'std_fit_time': array([0.03731373, 0.22378255, 0.05674231, 0.00675361, 0.16121003]), 'mean_score_time': array([0.08170962, 0.29653557, 0.29990474, 0.20261971, 0.1996576 ]), 'std_score_time': array([0.00273165, 0.00772943, 0.01531971, 0.01037264, 0.00311219]), 'param_subsample': masked_array(data=[1.0, 0.6, 0.8, 1.0, 0.8],\n",
      "             mask=[False, False, False, False, False],\n",
      "       fill_value='?',\n",
      "            dtype=object), 'param_min_child_weight': masked_array(data=[5, 1, 5, 5, 1],\n",
      "             mask=[False, False, False, False, False],\n",
      "       fill_value='?',\n",
      "            dtype=object), 'param_max_depth': masked_array(data=[3, 5, 5, 5, 4],\n",
      "             mask=[False, False, False, False, False],\n",
      "       fill_value='?',\n",
      "            dtype=object), 'param_gamma': masked_array(data=[5, 1.5, 1, 5, 1],\n",
      "             mask=[False, False, False, False, False],\n",
      "       fill_value='?',\n",
      "            dtype=object), 'param_colsample_bytree': masked_array(data=[1.0, 0.8, 0.8, 0.6, 1.0],\n",
      "             mask=[False, False, False, False, False],\n",
      "       fill_value='?',\n",
      "            dtype=object), 'params': [{'subsample': 1.0, 'min_child_weight': 5, 'max_depth': 3, 'gamma': 5, 'colsample_bytree': 1.0}, {'subsample': 0.6, 'min_child_weight': 1, 'max_depth': 5, 'gamma': 1.5, 'colsample_bytree': 0.8}, {'subsample': 0.8, 'min_child_weight': 5, 'max_depth': 5, 'gamma': 1, 'colsample_bytree': 0.8}, {'subsample': 1.0, 'min_child_weight': 5, 'max_depth': 5, 'gamma': 5, 'colsample_bytree': 0.6}, {'subsample': 0.8, 'min_child_weight': 1, 'max_depth': 4, 'gamma': 1, 'colsample_bytree': 1.0}], 'split0_test_score': array([0.74561935, 0.74802045, 0.74782583, 0.75015053, 0.74933961]), 'split1_test_score': array([0.73701426, 0.73757032, 0.7364852 , 0.73793857, 0.73802043]), 'split2_test_score': array([0.74831007, 0.74892903, 0.74942696, 0.75109566, 0.75107777]), 'mean_test_score': array([0.7436479 , 0.74483994, 0.74457933, 0.74639492, 0.74614594]), 'std_test_score': array([0.00481759, 0.00515376, 0.00576062, 0.00599198, 0.00578925]), 'rank_test_score': array([5, 3, 4, 1, 2], dtype=int32)}\n",
      "\n",
      " Best estimator:\n",
      "XGBClassifier(base_score=0.5, booster='gbtree', colsample_bylevel=1,\n",
      "              colsample_bynode=1, colsample_bytree=0.6, gamma=5, gpu_id=-1,\n",
      "              importance_type='gain', interaction_constraints='',\n",
      "              learning_rate=0.02, max_delta_step=0, max_depth=5,\n",
      "              min_child_weight=5, missing=nan, monotone_constraints='()',\n",
      "              n_estimators=600, n_jobs=1, nthread=1, num_parallel_tree=1,\n",
      "              random_state=0, reg_alpha=0, reg_lambda=1, scale_pos_weight=1,\n",
      "              silent=True, subsample=1.0, tree_method='exact',\n",
      "              validate_parameters=1, verbosity=None)\n",
      "\n",
      " Best normalized gini score for 3-fold search with 5 parameter combinations:\n",
      "0.4927898387961711\n",
      "\n",
      " Best hyperparameters:\n",
      "{'subsample': 1.0, 'min_child_weight': 5, 'max_depth': 5, 'gamma': 5, 'colsample_bytree': 0.6}\n"
     ]
    }
   ],
   "source": [
    "print('\\n All results:')\n",
    "print(random_search.cv_results_)\n",
    "print('\\n Best estimator:')\n",
    "print(random_search.best_estimator_)\n",
    "print('\\n Best normalized gini score for %d-fold search with %d parameter combinations:' % (folds, param_comb))\n",
    "print(random_search.best_score_ * 2 - 1)\n",
    "print('\\n Best hyperparameters:')\n",
    "print(random_search.best_params_)\n",
    "results = pd.DataFrame(random_search.cv_results_)\n",
    "#results.to_csv('xgb-random-grid-search-results-01.csv', index=False)\n",
    "#results"
   ]
  },
  {
   "cell_type": "markdown",
   "metadata": {},
   "source": [
    "We find that our best classifier has the parameters of:  \n",
    "```{'subsample': 1.0, 'min_child_weight': 5, 'max_depth': 5, 'gamma': 5, 'colsample_bytree': 0.6}```"
   ]
  },
  {
   "cell_type": "code",
   "execution_count": 176,
   "metadata": {},
   "outputs": [],
   "source": [
    "#xgb_clf = XGBClassifier(subsample = 1.0,min_child_weight = 5, max_depth = 5, gama = 5, colsample_bytree = 0.6)\n",
    "xgb_clf = XGBClassifier(base_score=0.5, booster='gbtree', colsample_bylevel=1,\n",
    "              colsample_bynode=1, colsample_bytree=0.6, gamma=5, gpu_id=-1,\n",
    "              importance_type='gain', interaction_constraints='',\n",
    "              learning_rate=0.02, max_delta_step=0, max_depth=5,\n",
    "              min_child_weight=5, monotone_constraints='()',\n",
    "              n_estimators=600, n_jobs=1, nthread=1, num_parallel_tree=1,\n",
    "              random_state=0, reg_alpha=0, reg_lambda=1, scale_pos_weight=1,\n",
    "              silent=True, subsample=1.0, tree_method='exact',\n",
    "              validate_parameters=1, verbosity=None)"
   ]
  },
  {
   "cell_type": "code",
   "execution_count": 177,
   "metadata": {},
   "outputs": [
    {
     "name": "stdout",
     "output_type": "stream",
     "text": [
      "[17:11:31] WARNING: /Users/runner/miniforge3/conda-bld/xgboost_1593723618214/work/src/learner.cc:480: \n",
      "Parameters: { silent } might not be used.\n",
      "\n",
      "  This may not be accurate due to some parameters are only used in language bindings but\n",
      "  passed down to XGBoost core.  Or some parameters are not used but slip through this\n",
      "  verification. Please open an issue if you find above cases.\n",
      "\n",
      "\n",
      "Accuracy: 83.11%\n"
     ]
    }
   ],
   "source": [
    "from sklearn.metrics import accuracy_score\n",
    "xgb_clf.fit(x_train, y_train)\n",
    "y_pred = xgb_clf.predict(x_test)\n",
    "predictions = [round(value) for value in y_pred]\n",
    "# evaluate predictions\n",
    "accuracy = accuracy_score(y_test, predictions)\n",
    "print(\"Accuracy: %.2f%%\" % (accuracy * 100.0))"
   ]
  },
  {
   "cell_type": "code",
   "execution_count": 170,
   "metadata": {},
   "outputs": [
    {
     "data": {
      "text/plain": [
       "0.7471773175440329"
      ]
     },
     "execution_count": 170,
     "metadata": {},
     "output_type": "execute_result"
    }
   ],
   "source": [
    "roc_auc_score(y_test, xgb_clf.predict_proba(x_test)[:, 1])"
   ]
  },
  {
   "cell_type": "code",
   "execution_count": 174,
   "metadata": {},
   "outputs": [
    {
     "ename": "AttributeError",
     "evalue": "Coefficients are not defined for Booster type None",
     "output_type": "error",
     "traceback": [
      "\u001b[0;31m---------------------------------------------------------------------------\u001b[0m",
      "\u001b[0;31mAttributeError\u001b[0m                            Traceback (most recent call last)",
      "\u001b[0;32m<ipython-input-174-1fdcab9934dc>\u001b[0m in \u001b[0;36m<module>\u001b[0;34m\u001b[0m\n\u001b[0;32m----> 1\u001b[0;31m \u001b[0mxgb_res\u001b[0m \u001b[0;34m=\u001b[0m \u001b[0mpd\u001b[0m\u001b[0;34m.\u001b[0m\u001b[0mDataFrame\u001b[0m\u001b[0;34m(\u001b[0m\u001b[0;34m{\u001b[0m\u001b[0;34m\"coef\"\u001b[0m \u001b[0;34m:\u001b[0m \u001b[0mxgb_clf\u001b[0m\u001b[0;34m.\u001b[0m\u001b[0mcoef_\u001b[0m\u001b[0;34m[\u001b[0m\u001b[0;36m0\u001b[0m\u001b[0;34m]\u001b[0m\u001b[0;34m,\u001b[0m \u001b[0;34m\"word\"\u001b[0m \u001b[0;34m:\u001b[0m \u001b[0mx_train\u001b[0m\u001b[0;34m.\u001b[0m\u001b[0mcolumns\u001b[0m\u001b[0;34m}\u001b[0m\u001b[0;34m)\u001b[0m \u001b[0;31m#creates a results dataframe to\u001b[0m\u001b[0;34m\u001b[0m\u001b[0;34m\u001b[0m\u001b[0m\n\u001b[0m\u001b[1;32m      2\u001b[0m \u001b[0;34m\u001b[0m\u001b[0m\n\u001b[1;32m      3\u001b[0m \u001b[0mxgb_neg\u001b[0m \u001b[0;34m=\u001b[0m \u001b[0mxgb_res\u001b[0m\u001b[0;34m.\u001b[0m\u001b[0msort_values\u001b[0m\u001b[0;34m(\u001b[0m\u001b[0;34m'coef'\u001b[0m\u001b[0;34m,\u001b[0m \u001b[0mascending\u001b[0m \u001b[0;34m=\u001b[0m \u001b[0;32mTrue\u001b[0m\u001b[0;34m)\u001b[0m\u001b[0;34m[\u001b[0m\u001b[0;36m0\u001b[0m\u001b[0;34m:\u001b[0m\u001b[0;36m25\u001b[0m\u001b[0;34m]\u001b[0m\u001b[0;34m\u001b[0m\u001b[0;34m\u001b[0m\u001b[0m\n\u001b[1;32m      4\u001b[0m \u001b[0mxgb_neg\u001b[0m \u001b[0;31m#sort ascending starting with the most negative\u001b[0m\u001b[0;34m\u001b[0m\u001b[0;34m\u001b[0m\u001b[0m\n",
      "\u001b[0;32m~/opt/anaconda3/lib/python3.8/site-packages/xgboost/sklearn.py\u001b[0m in \u001b[0;36mcoef_\u001b[0;34m(self)\u001b[0m\n\u001b[1;32m    707\u001b[0m         \"\"\"\n\u001b[1;32m    708\u001b[0m         \u001b[0;32mif\u001b[0m \u001b[0mself\u001b[0m\u001b[0;34m.\u001b[0m\u001b[0mget_params\u001b[0m\u001b[0;34m(\u001b[0m\u001b[0;34m)\u001b[0m\u001b[0;34m[\u001b[0m\u001b[0;34m'booster'\u001b[0m\u001b[0;34m]\u001b[0m \u001b[0;34m!=\u001b[0m \u001b[0;34m'gblinear'\u001b[0m\u001b[0;34m:\u001b[0m\u001b[0;34m\u001b[0m\u001b[0;34m\u001b[0m\u001b[0m\n\u001b[0;32m--> 709\u001b[0;31m             raise AttributeError(\n\u001b[0m\u001b[1;32m    710\u001b[0m                 \u001b[0;34m'Coefficients are not defined for Booster type {}'\u001b[0m\u001b[0;34m\u001b[0m\u001b[0;34m\u001b[0m\u001b[0m\n\u001b[1;32m    711\u001b[0m                 .format(self.booster))\n",
      "\u001b[0;31mAttributeError\u001b[0m: Coefficients are not defined for Booster type None"
     ]
    }
   ],
   "source": [
    "xgb_res = pd.DataFrame({\"coef\" : xgb_clf.coef_[0], \"word\" : x_train.columns}) #creates a results dataframe to \n",
    "\n",
    "xgb_neg = xgb_res.sort_values('coef', ascending = True)[0:25]\n",
    "xgb_neg #sort ascending starting with the most negative"
   ]
  },
  {
   "cell_type": "code",
   "execution_count": null,
   "metadata": {},
   "outputs": [],
   "source": [
    "#this shows fake-related columns\n",
    "xgb_pos = xgb_res.sort_values('coef', ascending = False)[0:25]#sort descending starting with the most positive\n",
    "xgb_pos"
   ]
  }
 ],
 "metadata": {
  "kernelspec": {
   "display_name": "Python 3",
   "language": "python",
   "name": "python3"
  },
  "language_info": {
   "codemirror_mode": {
    "name": "ipython",
    "version": 3
   },
   "file_extension": ".py",
   "mimetype": "text/x-python",
   "name": "python",
   "nbconvert_exporter": "python",
   "pygments_lexer": "ipython3",
   "version": "3.8.3"
  }
 },
 "nbformat": 4,
 "nbformat_minor": 4
}
